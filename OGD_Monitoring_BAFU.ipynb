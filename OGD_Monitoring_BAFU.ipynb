{
  "cells": [
    {
      "cell_type": "markdown",
      "metadata": {
        "id": "view-in-github",
        "colab_type": "text"
      },
      "source": [
        "<a href=\"https://colab.research.google.com/github/nrohrbach/OGD_Monitoring_BAFU/blob/main/OGD_Monitoring_BAFU.ipynb\" target=\"_parent\"><img src=\"https://colab.research.google.com/assets/colab-badge.svg\" alt=\"Open In Colab\"/></a>"
      ]
    },
    {
      "cell_type": "code",
      "execution_count": null,
      "id": "21343450-58f6-4adc-8485-78be3e548549",
      "metadata": {
        "tags": [],
        "id": "21343450-58f6-4adc-8485-78be3e548549"
      },
      "outputs": [],
      "source": [
        "#pip install pandas"
      ]
    },
    {
      "cell_type": "code",
      "execution_count": 65,
      "id": "e3e5c8d9-4337-4427-aa00-0d7f738298b2",
      "metadata": {
        "tags": [],
        "id": "e3e5c8d9-4337-4427-aa00-0d7f738298b2"
      },
      "outputs": [],
      "source": [
        "#pip install matplotlib"
      ]
    },
    {
      "cell_type": "markdown",
      "id": "09abcb1c-32fe-4be3-853c-9c576ba9f57e",
      "metadata": {
        "tags": [],
        "id": "09abcb1c-32fe-4be3-853c-9c576ba9f57e"
      },
      "source": [
        "## Libraries importieren"
      ]
    },
    {
      "cell_type": "code",
      "execution_count": 2,
      "id": "2e858b48-9a23-49e6-8c46-6526f60727a8",
      "metadata": {
        "tags": [],
        "id": "2e858b48-9a23-49e6-8c46-6526f60727a8"
      },
      "outputs": [],
      "source": [
        "import requests\n",
        "import json\n",
        "import pandas as pd\n",
        "from datetime import datetime\n",
        "import matplotlib.pyplot as plt\n",
        "%matplotlib inline"
      ]
    },
    {
      "cell_type": "markdown",
      "id": "cb07692a-170f-469b-83de-1d0af7d0e6fb",
      "metadata": {
        "id": "cb07692a-170f-469b-83de-1d0af7d0e6fb"
      },
      "source": [
        "## Alle Packages des BAFU abfragen"
      ]
    },
    {
      "cell_type": "code",
      "execution_count": 130,
      "id": "f6a8c063-cdaf-40d7-abde-c5b95fb05331",
      "metadata": {
        "tags": [],
        "id": "f6a8c063-cdaf-40d7-abde-c5b95fb05331"
      },
      "outputs": [],
      "source": [
        "# Abfrage aller CKAN Packages des BAFU\n",
        "Packages = \"https://ckan.opendata.swiss/api/3/action/organization_show?id=bundesamt-fur-umwelt-bafu&include_datasets=True\"\n",
        "Packages = requests.get(Packages).json()"
      ]
    },
    {
      "cell_type": "code",
      "execution_count": 131,
      "id": "7c3688f9-214c-4f26-89d3-d55ef1f43783",
      "metadata": {
        "tags": [],
        "id": "7c3688f9-214c-4f26-89d3-d55ef1f43783"
      },
      "outputs": [],
      "source": [
        "# Alle Bezeichungen und Publisher extrahieren\n",
        "Title = [s['title_for_slug'] for s in Packages['result']['packages']]\n",
        "Maintainer = [s['maintainer'] for s in Packages['result']['packages']]\n",
        "Email = [s['maintainer_email'] for s in Packages['result']['packages']]\n",
        "LastModified = [s['modified'] for s in Packages['result']['packages']]"
      ]
    },
    {
      "cell_type": "code",
      "execution_count": 132,
      "id": "777da063-9243-4db6-a5c4-45f91c56ff62",
      "metadata": {
        "tags": [],
        "id": "777da063-9243-4db6-a5c4-45f91c56ff62"
      },
      "outputs": [],
      "source": [
        "# Dataframe für Packages erstellen\n",
        "dict = {'Publisher': Maintainer, 'Mail': Email, 'Package': Title, 'LastModified': LastModified}\n",
        "dfPackages = pd.DataFrame(dict)"
      ]
    },
    {
      "cell_type": "code",
      "execution_count": 134,
      "id": "2ab2e002-580c-4a11-901c-2807b717c3fe",
      "metadata": {
        "tags": [],
        "id": "2ab2e002-580c-4a11-901c-2807b717c3fe"
      },
      "outputs": [],
      "source": [
        "# Mit folgender BaseURL können Details aller Packages abgerufen werden\n",
        "DatasetBaseURL = 'https://ckan.opendata.swiss/api/3/action/package_show?id='"
      ]
    },
    {
      "cell_type": "code",
      "execution_count": 135,
      "id": "7fa68fac-a298-4fcd-9214-2edeb1551fc0",
      "metadata": {
        "tags": [],
        "id": "7fa68fac-a298-4fcd-9214-2edeb1551fc0"
      },
      "outputs": [],
      "source": [
        "# Alle Package-Detailsabfragen\n",
        "Datasets = []\n",
        "\n",
        "for package in Title:\n",
        "    try:\n",
        "        DataSet = requests.get(DatasetBaseURL + package).json()\n",
        "        Maintainer = DataSet['result']['maintainer']\n",
        "        Email = DataSet['result']['maintainer_email']\n",
        "        LastModified = DataSet['result']['modified']\n",
        "        Issued = DataSet['result']['issued']\n",
        "        License = DataSet['result']['resources'][0]['license']\n",
        "        Datasets.append({'Package': package, 'Publisher': Maintainer, 'Mail': Email, 'LastModified':LastModified,'Issued':Issued,'License':License})\n",
        "\n",
        "    except:\n",
        "        Datasets.append({'Package': package, 'Publisher': 'Unbekannt', 'Mail': 'Unbekannt','LastModified':'','Issued':'','License':''})\n"
      ]
    },
    {
      "cell_type": "code",
      "execution_count": 136,
      "id": "521cc30e-557e-470b-a550-077fec949885",
      "metadata": {
        "tags": [],
        "id": "521cc30e-557e-470b-a550-077fec949885"
      },
      "outputs": [],
      "source": [
        "# Package Details als Dataframe speichern\n",
        "dfPackages = pd.DataFrame(Datasets)"
      ]
    },
    {
      "cell_type": "code",
      "source": [
        "# Falls LastModified leer ist, wird der Wert aus Issued übernommen.\n",
        "dfPackages['LastModified'] = dfPackages.apply(lambda row: row['Issued'] if pd.isnull(row['LastModified']) or row['LastModified'] == '' else row['LastModified'], axis=1)"
      ],
      "metadata": {
        "id": "dwICm517Nv1u"
      },
      "id": "dwICm517Nv1u",
      "execution_count": 137,
      "outputs": []
    },
    {
      "cell_type": "code",
      "source": [
        "# Lizenzstring kürzen\n",
        "dfPackages['License'] = dfPackages['License'].str.split('#').str[1]"
      ],
      "metadata": {
        "id": "P4V9TdvpT7FF"
      },
      "id": "P4V9TdvpT7FF",
      "execution_count": 138,
      "outputs": []
    },
    {
      "cell_type": "code",
      "execution_count": 140,
      "id": "54e6e64b-5b67-4600-a234-fee733061e47",
      "metadata": {
        "tags": [],
        "id": "54e6e64b-5b67-4600-a234-fee733061e47"
      },
      "outputs": [],
      "source": [
        "# Alle Datasets aller Packages abfragen\n",
        "Datasets = []\n",
        "\n",
        "for package in Title:\n",
        "    try:\n",
        "        DataSet = requests.get(DatasetBaseURL + package).json()\n",
        "        # Alle Bezeichungen und Publisher extrahieren\n",
        "        Format = [s['format'] for s in DataSet['result']['resources']]\n",
        "        PackageId = [s['package_id'] for s in DataSet['result']['resources']]\n",
        "        Display_Name = [s['display_name']['de'] for s in DataSet['result']['resources']]\n",
        "        Datasets.append({'Package': package, 'Format': Format,'Display_Name':Display_Name})\n",
        "\n",
        "    except:\n",
        "        Datasets.append({'Package': package, 'Format': 'Unbekannt','Display_Name':''})"
      ]
    },
    {
      "cell_type": "code",
      "execution_count": 141,
      "id": "4d6259b6-d40d-4b06-b117-5d52a6f8df4c",
      "metadata": {
        "tags": [],
        "id": "4d6259b6-d40d-4b06-b117-5d52a6f8df4c"
      },
      "outputs": [],
      "source": [
        "# Dataframe der Datasets erstellen und mit dem Dataframe der Packages mergen\n",
        "dfDatasets = pd.DataFrame(Datasets)\n",
        "dfDatasets = dfDatasets.explode('Format', ignore_index=False)\n",
        "\n",
        "dfDatasets = pd.merge(dfDatasets, dfPackages, how='left', on=['Package'])\n",
        "dfDatasets['Date'] = datetime.today().strftime(\"%Y-%m-%d\")"
      ]
    },
    {
      "cell_type": "code",
      "source": [
        "# Dataframe nur mit Geodaten für STAC Monitoring\n",
        "\n",
        "# Create a new column 'STAC_Attribut'\n",
        "dfDatasets['STAC'] = 'nein'\n",
        "\n",
        "# Update 'STAC_Attribut' to 'ja' where the 'STAC' column contains 'STAC'\n",
        "dfDatasets.loc[dfDatasets['Display_Name'].astype(str).str.contains('STAC'), 'STAC'] = 'ja'\n",
        "\n",
        "# Filter the DataFrame to include only entries where 'Display_Name' contains \"map.geo.admin.ch\"\n",
        "dfGeodaten = dfDatasets[dfDatasets['Display_Name'].astype(str).str.contains('map.geo.admin.ch')]\n",
        "\n",
        "dfGeodaten = dfGeodaten[dfGeodaten['Format'] == 'SERVICE']"
      ],
      "metadata": {
        "id": "MP-TS4FHWZ1o"
      },
      "id": "MP-TS4FHWZ1o",
      "execution_count": 196,
      "outputs": []
    },
    {
      "cell_type": "markdown",
      "id": "55f8d986-093e-43c9-b98e-d93156fc7ccb",
      "metadata": {
        "id": "55f8d986-093e-43c9-b98e-d93156fc7ccb"
      },
      "source": [
        "## Daten als CSV speichern"
      ]
    },
    {
      "cell_type": "code",
      "execution_count": 151,
      "id": "95427280-0d3b-46f6-ad6a-de8c5cf4395e",
      "metadata": {
        "tags": [],
        "id": "95427280-0d3b-46f6-ad6a-de8c5cf4395e"
      },
      "outputs": [],
      "source": [
        "# Übersicht Packages speichern\n",
        "dfPackagesCSV = dfPackages.groupby(['Mail'])['Package'].count().reset_index()\n",
        "dfPackagesCSV['Date'] = datetime.today().strftime(\"%Y-%m-%d\")\n",
        "dfPackagesCSV.to_csv(\"data/BAFU_OGD_Monitoring_Packages.csv\", header=False, index=False, mode='a')"
      ]
    },
    {
      "cell_type": "code",
      "execution_count": 152,
      "id": "f5b12bf2-9176-46fb-ad50-f7f173387c64",
      "metadata": {
        "tags": [],
        "id": "f5b12bf2-9176-46fb-ad50-f7f173387c64"
      },
      "outputs": [],
      "source": [
        "# Übersicht Datasets speichern\n",
        "dfDatasetsCSV = dfDatasets.groupby(['Mail'])['Package'].count().reset_index()\n",
        "dfDatasetsCSV['Date'] = datetime.today().strftime(\"%Y-%m-%d\")\n",
        "dfDatasetsCSV.to_csv(\"data/BAFU_OGD_Monitoring_Datasets.csv\", header=False, index=False, mode='a')"
      ]
    },
    {
      "cell_type": "code",
      "execution_count": 153,
      "id": "8acb51bb-7a98-49c9-b2d9-fe9a0d86be04",
      "metadata": {
        "tags": [],
        "id": "8acb51bb-7a98-49c9-b2d9-fe9a0d86be04"
      },
      "outputs": [],
      "source": [
        "# Übersicht Formate speichern\n",
        "dfFormats = dfDatasets.groupby(['Format'])['Mail'].count().reset_index()\n",
        "dfFormats.replace(\"\",\"Fehlt\",inplace=True)\n",
        "dfFormats['Date'] = datetime.today().strftime(\"%Y-%m-%d\")\n",
        "dfFormats.to_csv(\"data/BAFU_OGD_Monitoring_Formats.csv\", header=False, index=False, mode='a')"
      ]
    },
    {
      "cell_type": "code",
      "execution_count": 154,
      "id": "c53e65e4-ae98-4c05-b84b-ee77eadfd34f",
      "metadata": {
        "tags": [],
        "id": "c53e65e4-ae98-4c05-b84b-ee77eadfd34f"
      },
      "outputs": [],
      "source": [
        "# Übersicht Last Update speichern\n",
        "dfPackages['LastModified'] = dfPackages['LastModified'].str.slice(0,7)\n",
        "dfLastUpdateCSV = dfPackages.groupby(['LastModified'])['Mail'].count().reset_index()\n",
        "dfLastUpdateCSV.replace(\"\",\"1999-01\",inplace=True) #Fehlende Werte werden 1999 dargestellt.\n",
        "dfLastUpdateCSV['LastModified'] = pd.to_datetime(dfLastUpdateCSV['LastModified'])\n",
        "dfLastUpdateCSV['Date'] = datetime.today().strftime(\"%Y-%m-%d\")\n",
        "dfLastUpdateCSV.to_csv(\"data/BAFU_OGD_Monitoring_LastUpdate.csv\", header=False, index=False, mode='a')"
      ]
    },
    {
      "cell_type": "code",
      "source": [
        "# Übersicht Lizenz speichern\n",
        "dfLicenseCSV = dfDatasets.groupby(['License'])['Package'].count().reset_index()\n",
        "dfLicenseCSV['Date'] = datetime.today().strftime(\"%Y-%m-%d\")\n",
        "dfLicenseCSV.to_csv(\"data/BAFU_OGD_Monitoring_License.csv\", header=False, index=False, mode='a')"
      ],
      "metadata": {
        "id": "YuywiOeAXNTH"
      },
      "id": "YuywiOeAXNTH",
      "execution_count": 118,
      "outputs": []
    },
    {
      "cell_type": "code",
      "source": [
        "# Übersicht STAC speichern\n",
        "dfGeodatenCSV = dfGeodaten.groupby(['Mail','STAC'])['Package'].count().reset_index()\n",
        "dfGeodatenCSV['Date'] = datetime.today().strftime(\"%Y-%m-%d\")\n",
        "dfGeodatenCSV.to_csv(\"data/BAFU_OGD_Monitoring_STAC.csv\", header=False, index=False, mode='a')"
      ],
      "metadata": {
        "id": "2po6m7fsYds_"
      },
      "id": "2po6m7fsYds_",
      "execution_count": 150,
      "outputs": []
    },
    {
      "cell_type": "markdown",
      "id": "1161ede7-dcb1-4ba8-b5fc-51107f522312",
      "metadata": {
        "tags": [],
        "id": "1161ede7-dcb1-4ba8-b5fc-51107f522312"
      },
      "source": [
        "## Visualisierungen erstellen"
      ]
    },
    {
      "cell_type": "code",
      "execution_count": 155,
      "id": "c1f87c1e-61a0-4c27-8c20-cd72fbbdc9bf",
      "metadata": {
        "tags": [],
        "id": "c1f87c1e-61a0-4c27-8c20-cd72fbbdc9bf",
        "colab": {
          "base_uri": "https://localhost:8080/",
          "height": 304
        },
        "outputId": "20975080-fb41-455f-8c71-3f227b9671f4"
      },
      "outputs": [
        {
          "output_type": "error",
          "ename": "ValueError",
          "evalue": "Missing column provided to 'parse_dates': 'Date'",
          "traceback": [
            "\u001b[0;31m---------------------------------------------------------------------------\u001b[0m",
            "\u001b[0;31mValueError\u001b[0m                                Traceback (most recent call last)",
            "\u001b[0;32m<ipython-input-155-c2f84b58d0fe>\u001b[0m in \u001b[0;36m<cell line: 0>\u001b[0;34m()\u001b[0m\n\u001b[1;32m      1\u001b[0m \u001b[0;31m#Packages - Daten reinladen\u001b[0m\u001b[0;34m\u001b[0m\u001b[0;34m\u001b[0m\u001b[0m\n\u001b[0;32m----> 2\u001b[0;31m \u001b[0mdfPackages\u001b[0m \u001b[0;34m=\u001b[0m \u001b[0mpd\u001b[0m\u001b[0;34m.\u001b[0m\u001b[0mread_csv\u001b[0m\u001b[0;34m(\u001b[0m\u001b[0;34m\"data/BAFU_OGD_Monitoring_Packages.csv\"\u001b[0m\u001b[0;34m,\u001b[0m \u001b[0mparse_dates\u001b[0m\u001b[0;34m=\u001b[0m\u001b[0;34m[\u001b[0m\u001b[0;34m'Date'\u001b[0m\u001b[0;34m]\u001b[0m\u001b[0;34m)\u001b[0m\u001b[0;34m\u001b[0m\u001b[0;34m\u001b[0m\u001b[0m\n\u001b[0m",
            "\u001b[0;32m/usr/local/lib/python3.11/dist-packages/pandas/io/parsers/readers.py\u001b[0m in \u001b[0;36mread_csv\u001b[0;34m(filepath_or_buffer, sep, delimiter, header, names, index_col, usecols, dtype, engine, converters, true_values, false_values, skipinitialspace, skiprows, skipfooter, nrows, na_values, keep_default_na, na_filter, verbose, skip_blank_lines, parse_dates, infer_datetime_format, keep_date_col, date_parser, date_format, dayfirst, cache_dates, iterator, chunksize, compression, thousands, decimal, lineterminator, quotechar, quoting, doublequote, escapechar, comment, encoding, encoding_errors, dialect, on_bad_lines, delim_whitespace, low_memory, memory_map, float_precision, storage_options, dtype_backend)\u001b[0m\n\u001b[1;32m   1024\u001b[0m     \u001b[0mkwds\u001b[0m\u001b[0;34m.\u001b[0m\u001b[0mupdate\u001b[0m\u001b[0;34m(\u001b[0m\u001b[0mkwds_defaults\u001b[0m\u001b[0;34m)\u001b[0m\u001b[0;34m\u001b[0m\u001b[0;34m\u001b[0m\u001b[0m\n\u001b[1;32m   1025\u001b[0m \u001b[0;34m\u001b[0m\u001b[0m\n\u001b[0;32m-> 1026\u001b[0;31m     \u001b[0;32mreturn\u001b[0m \u001b[0m_read\u001b[0m\u001b[0;34m(\u001b[0m\u001b[0mfilepath_or_buffer\u001b[0m\u001b[0;34m,\u001b[0m \u001b[0mkwds\u001b[0m\u001b[0;34m)\u001b[0m\u001b[0;34m\u001b[0m\u001b[0;34m\u001b[0m\u001b[0m\n\u001b[0m\u001b[1;32m   1027\u001b[0m \u001b[0;34m\u001b[0m\u001b[0m\n\u001b[1;32m   1028\u001b[0m \u001b[0;34m\u001b[0m\u001b[0m\n",
            "\u001b[0;32m/usr/local/lib/python3.11/dist-packages/pandas/io/parsers/readers.py\u001b[0m in \u001b[0;36m_read\u001b[0;34m(filepath_or_buffer, kwds)\u001b[0m\n\u001b[1;32m    618\u001b[0m \u001b[0;34m\u001b[0m\u001b[0m\n\u001b[1;32m    619\u001b[0m     \u001b[0;31m# Create the parser.\u001b[0m\u001b[0;34m\u001b[0m\u001b[0;34m\u001b[0m\u001b[0m\n\u001b[0;32m--> 620\u001b[0;31m     \u001b[0mparser\u001b[0m \u001b[0;34m=\u001b[0m \u001b[0mTextFileReader\u001b[0m\u001b[0;34m(\u001b[0m\u001b[0mfilepath_or_buffer\u001b[0m\u001b[0;34m,\u001b[0m \u001b[0;34m**\u001b[0m\u001b[0mkwds\u001b[0m\u001b[0;34m)\u001b[0m\u001b[0;34m\u001b[0m\u001b[0;34m\u001b[0m\u001b[0m\n\u001b[0m\u001b[1;32m    621\u001b[0m \u001b[0;34m\u001b[0m\u001b[0m\n\u001b[1;32m    622\u001b[0m     \u001b[0;32mif\u001b[0m \u001b[0mchunksize\u001b[0m \u001b[0;32mor\u001b[0m \u001b[0miterator\u001b[0m\u001b[0;34m:\u001b[0m\u001b[0;34m\u001b[0m\u001b[0;34m\u001b[0m\u001b[0m\n",
            "\u001b[0;32m/usr/local/lib/python3.11/dist-packages/pandas/io/parsers/readers.py\u001b[0m in \u001b[0;36m__init__\u001b[0;34m(self, f, engine, **kwds)\u001b[0m\n\u001b[1;32m   1618\u001b[0m \u001b[0;34m\u001b[0m\u001b[0m\n\u001b[1;32m   1619\u001b[0m         \u001b[0mself\u001b[0m\u001b[0;34m.\u001b[0m\u001b[0mhandles\u001b[0m\u001b[0;34m:\u001b[0m \u001b[0mIOHandles\u001b[0m \u001b[0;34m|\u001b[0m \u001b[0;32mNone\u001b[0m \u001b[0;34m=\u001b[0m \u001b[0;32mNone\u001b[0m\u001b[0;34m\u001b[0m\u001b[0;34m\u001b[0m\u001b[0m\n\u001b[0;32m-> 1620\u001b[0;31m         \u001b[0mself\u001b[0m\u001b[0;34m.\u001b[0m\u001b[0m_engine\u001b[0m \u001b[0;34m=\u001b[0m \u001b[0mself\u001b[0m\u001b[0;34m.\u001b[0m\u001b[0m_make_engine\u001b[0m\u001b[0;34m(\u001b[0m\u001b[0mf\u001b[0m\u001b[0;34m,\u001b[0m \u001b[0mself\u001b[0m\u001b[0;34m.\u001b[0m\u001b[0mengine\u001b[0m\u001b[0;34m)\u001b[0m\u001b[0;34m\u001b[0m\u001b[0;34m\u001b[0m\u001b[0m\n\u001b[0m\u001b[1;32m   1621\u001b[0m \u001b[0;34m\u001b[0m\u001b[0m\n\u001b[1;32m   1622\u001b[0m     \u001b[0;32mdef\u001b[0m \u001b[0mclose\u001b[0m\u001b[0;34m(\u001b[0m\u001b[0mself\u001b[0m\u001b[0;34m)\u001b[0m \u001b[0;34m->\u001b[0m \u001b[0;32mNone\u001b[0m\u001b[0;34m:\u001b[0m\u001b[0;34m\u001b[0m\u001b[0;34m\u001b[0m\u001b[0m\n",
            "\u001b[0;32m/usr/local/lib/python3.11/dist-packages/pandas/io/parsers/readers.py\u001b[0m in \u001b[0;36m_make_engine\u001b[0;34m(self, f, engine)\u001b[0m\n\u001b[1;32m   1896\u001b[0m \u001b[0;34m\u001b[0m\u001b[0m\n\u001b[1;32m   1897\u001b[0m         \u001b[0;32mtry\u001b[0m\u001b[0;34m:\u001b[0m\u001b[0;34m\u001b[0m\u001b[0;34m\u001b[0m\u001b[0m\n\u001b[0;32m-> 1898\u001b[0;31m             \u001b[0;32mreturn\u001b[0m \u001b[0mmapping\u001b[0m\u001b[0;34m[\u001b[0m\u001b[0mengine\u001b[0m\u001b[0;34m]\u001b[0m\u001b[0;34m(\u001b[0m\u001b[0mf\u001b[0m\u001b[0;34m,\u001b[0m \u001b[0;34m**\u001b[0m\u001b[0mself\u001b[0m\u001b[0;34m.\u001b[0m\u001b[0moptions\u001b[0m\u001b[0;34m)\u001b[0m\u001b[0;34m\u001b[0m\u001b[0;34m\u001b[0m\u001b[0m\n\u001b[0m\u001b[1;32m   1899\u001b[0m         \u001b[0;32mexcept\u001b[0m \u001b[0mException\u001b[0m\u001b[0;34m:\u001b[0m\u001b[0;34m\u001b[0m\u001b[0;34m\u001b[0m\u001b[0m\n\u001b[1;32m   1900\u001b[0m             \u001b[0;32mif\u001b[0m \u001b[0mself\u001b[0m\u001b[0;34m.\u001b[0m\u001b[0mhandles\u001b[0m \u001b[0;32mis\u001b[0m \u001b[0;32mnot\u001b[0m \u001b[0;32mNone\u001b[0m\u001b[0;34m:\u001b[0m\u001b[0;34m\u001b[0m\u001b[0;34m\u001b[0m\u001b[0m\n",
            "\u001b[0;32m/usr/local/lib/python3.11/dist-packages/pandas/io/parsers/c_parser_wrapper.py\u001b[0m in \u001b[0;36m__init__\u001b[0;34m(self, src, **kwds)\u001b[0m\n\u001b[1;32m    159\u001b[0m \u001b[0;34m\u001b[0m\u001b[0m\n\u001b[1;32m    160\u001b[0m         \u001b[0;31m# error: Cannot determine type of 'names'\u001b[0m\u001b[0;34m\u001b[0m\u001b[0;34m\u001b[0m\u001b[0m\n\u001b[0;32m--> 161\u001b[0;31m         \u001b[0mself\u001b[0m\u001b[0;34m.\u001b[0m\u001b[0m_validate_parse_dates_presence\u001b[0m\u001b[0;34m(\u001b[0m\u001b[0mself\u001b[0m\u001b[0;34m.\u001b[0m\u001b[0mnames\u001b[0m\u001b[0;34m)\u001b[0m  \u001b[0;31m# type: ignore[has-type]\u001b[0m\u001b[0;34m\u001b[0m\u001b[0;34m\u001b[0m\u001b[0m\n\u001b[0m\u001b[1;32m    162\u001b[0m         \u001b[0mself\u001b[0m\u001b[0;34m.\u001b[0m\u001b[0m_set_noconvert_columns\u001b[0m\u001b[0;34m(\u001b[0m\u001b[0;34m)\u001b[0m\u001b[0;34m\u001b[0m\u001b[0;34m\u001b[0m\u001b[0m\n\u001b[1;32m    163\u001b[0m \u001b[0;34m\u001b[0m\u001b[0m\n",
            "\u001b[0;32m/usr/local/lib/python3.11/dist-packages/pandas/io/parsers/base_parser.py\u001b[0m in \u001b[0;36m_validate_parse_dates_presence\u001b[0;34m(self, columns)\u001b[0m\n\u001b[1;32m    241\u001b[0m         )\n\u001b[1;32m    242\u001b[0m         \u001b[0;32mif\u001b[0m \u001b[0mmissing_cols\u001b[0m\u001b[0;34m:\u001b[0m\u001b[0;34m\u001b[0m\u001b[0;34m\u001b[0m\u001b[0m\n\u001b[0;32m--> 243\u001b[0;31m             raise ValueError(\n\u001b[0m\u001b[1;32m    244\u001b[0m                 \u001b[0;34mf\"Missing column provided to 'parse_dates': '{missing_cols}'\"\u001b[0m\u001b[0;34m\u001b[0m\u001b[0;34m\u001b[0m\u001b[0m\n\u001b[1;32m    245\u001b[0m             )\n",
            "\u001b[0;31mValueError\u001b[0m: Missing column provided to 'parse_dates': 'Date'"
          ]
        }
      ],
      "source": [
        "#Packages - Daten reinladen\n",
        "dfPackages = pd.read_csv(\"data/BAFU_OGD_Monitoring_Packages.csv\", parse_dates=['Date'])"
      ]
    },
    {
      "cell_type": "code",
      "source": [
        "# Linechart mit allen BAFU OGD-Publikationen\n",
        "dfPackagesBAFU = dfPackages.groupby(dfPackages['Date']).sum()\n",
        "dfPackagesBAFU = dfPackagesBAFU.drop(\"Mail\", axis='columns')\n",
        "\n",
        "dfPackagesBAFU.plot(figsize=(15,10))\n",
        "plt.legend(loc='upper left')\n",
        "plt.title(\"Anzahl OGD Publikationen\")\n",
        "plt.savefig('plots/PackagesBAFULinechart.png')\n",
        "plt.close()"
      ],
      "metadata": {
        "id": "kzfIC9amjBvf"
      },
      "id": "kzfIC9amjBvf",
      "execution_count": null,
      "outputs": []
    },
    {
      "cell_type": "code",
      "execution_count": null,
      "id": "9c7b1556-77bb-45c7-8b58-47feaec0910d",
      "metadata": {
        "tags": [],
        "id": "9c7b1556-77bb-45c7-8b58-47feaec0910d"
      },
      "outputs": [],
      "source": [
        "#Packages Barchart\n",
        "dfPackagesBar = dfPackages.loc[dfPackages['Date']==datetime.today().strftime(\"%Y-%m-%d\")]\n",
        "dfPackagesBar = dfPackagesBar.sort_values('Package',ascending=False)\n",
        "\n",
        "fig, ax = plt.subplots()\n",
        "ax.bar(dfPackagesBar['Mail'], dfPackagesBar['Package'])\n",
        "ax.set_title('Anzahl OGD Publikationen')\n",
        "plt.xticks(rotation = 90)\n",
        "plt.ylabel(\"Anzahl Masten\")\n",
        "plt.rcParams[\"figure.figsize\"] = (10,5)\n",
        "ax.bar_label(ax.containers[0], label_type='edge')\n",
        "plt.savefig('plots/PackagesBarchart.png',bbox_inches='tight')\n",
        "plt.close()"
      ]
    },
    {
      "cell_type": "code",
      "execution_count": null,
      "id": "18a709fb-1298-4359-8622-20a04a5df04c",
      "metadata": {
        "tags": [],
        "id": "18a709fb-1298-4359-8622-20a04a5df04c"
      },
      "outputs": [],
      "source": [
        "#Packages - Linechart\n",
        "dfPackagesLine = dfPackages.pivot(index=\"Date\", columns=['Mail'],values=\"Package\")\n",
        "\n",
        "dfPackagesLine.plot(figsize=(15,10))\n",
        "plt.legend(loc='lower left')\n",
        "plt.title(\"Anzahl OGD Publikationen\")\n",
        "plt.savefig('plots/PackagesLinechart.png')\n",
        "plt.close()"
      ]
    },
    {
      "cell_type": "code",
      "execution_count": null,
      "id": "40ce18b0-1d8e-45e2-8c12-0a70b77a3eae",
      "metadata": {
        "tags": [],
        "id": "40ce18b0-1d8e-45e2-8c12-0a70b77a3eae"
      },
      "outputs": [],
      "source": [
        "#Datasets - Daten reinladen\n",
        "dfDatasets = pd.read_csv(\"data/BAFU_OGD_Monitoring_Datasets.csv\", parse_dates=['Date'])"
      ]
    },
    {
      "cell_type": "code",
      "execution_count": null,
      "id": "7c88ba7c-be18-4b23-8049-870dfd2c8643",
      "metadata": {
        "tags": [],
        "id": "7c88ba7c-be18-4b23-8049-870dfd2c8643"
      },
      "outputs": [],
      "source": [
        "#Datasets Barchart\n",
        "dfDatasetsBar = dfDatasets.loc[dfDatasets['Date']==datetime.today().strftime(\"%Y-%m-%d\")]\n",
        "dfDatasetsBar = dfDatasetsBar.sort_values('Package',ascending=False)\n",
        "\n",
        "fig, ax = plt.subplots()\n",
        "ax.bar(dfDatasetsBar['Mail'], dfDatasetsBar['Package'])\n",
        "ax.set_title('Anzahl OGD Datensätze')\n",
        "plt.xticks(rotation = 90)\n",
        "plt.ylabel(\"Anzahl Masten\")\n",
        "plt.rcParams[\"figure.figsize\"] = (10,5)\n",
        "ax.bar_label(ax.containers[0], label_type='edge')\n",
        "plt.savefig('plots/DatasetsBarchart.png',bbox_inches='tight')\n",
        "plt.close()"
      ]
    },
    {
      "cell_type": "code",
      "execution_count": null,
      "id": "2d210318-09f3-4db2-b42b-57830404708c",
      "metadata": {
        "tags": [],
        "id": "2d210318-09f3-4db2-b42b-57830404708c"
      },
      "outputs": [],
      "source": [
        "#Datsets - Linechart\n",
        "dfDatasetsLine = dfDatasets.pivot(index=\"Date\", columns=['Mail'],values=\"Package\")\n",
        "\n",
        "dfDatasetsLine.plot(figsize=(15,10))\n",
        "plt.legend(loc='lower left')\n",
        "plt.title(\"Anzahl OGD Datensätze\")\n",
        "plt.savefig('plots/DatasetsLinechart.png')\n",
        "plt.close()"
      ]
    },
    {
      "cell_type": "code",
      "execution_count": null,
      "id": "f5bec2fb-1db9-4f4e-88f1-a700421c826e",
      "metadata": {
        "tags": [],
        "id": "f5bec2fb-1db9-4f4e-88f1-a700421c826e"
      },
      "outputs": [],
      "source": [
        "#Formate - Daten reinladen\n",
        "dfFormats = pd.read_csv(\"data/BAFU_OGD_Monitoring_Formats.csv\", parse_dates=['Date'])"
      ]
    },
    {
      "cell_type": "code",
      "execution_count": null,
      "id": "8738aa6b-8b8e-437b-aad0-0ec946ec69ee",
      "metadata": {
        "tags": [],
        "id": "8738aa6b-8b8e-437b-aad0-0ec946ec69ee"
      },
      "outputs": [],
      "source": [
        "#Formats Barchart\n",
        "dfFormatsBar = dfFormats.loc[dfFormats['Date']==datetime.today().strftime(\"%Y-%m-%d\")]\n",
        "dfFormatsBar = dfFormatsBar.sort_values('Mail',ascending=False)\n",
        "\n",
        "fig, ax = plt.subplots()\n",
        "ax.bar(dfFormatsBar['Format'], dfFormatsBar['Mail'])\n",
        "ax.set_title('Anzahl OGD Datensätze nach Format')\n",
        "plt.xticks(rotation = 90)\n",
        "plt.ylabel(\"Anzahl Datensätze\")\n",
        "plt.rcParams[\"figure.figsize\"] = (10,5)\n",
        "ax.bar_label(ax.containers[0], label_type='edge')\n",
        "plt.savefig('plots/FormatssBarchart.png',bbox_inches='tight')\n",
        "plt.close()"
      ]
    },
    {
      "cell_type": "code",
      "execution_count": null,
      "id": "1092ae40-ee15-4a2e-ae17-54ad5e448375",
      "metadata": {
        "tags": [],
        "id": "1092ae40-ee15-4a2e-ae17-54ad5e448375"
      },
      "outputs": [],
      "source": [
        "#Formats - Linechart\n",
        "dfFormatsLine = dfFormats.pivot(index=\"Date\", columns=['Format'],values=\"Mail\")\n",
        "\n",
        "dfFormatsLine.plot(figsize=(15,10))\n",
        "plt.legend(loc='lower left')\n",
        "plt.title(\"Anzahl OGD Datensätze nach Format\")\n",
        "plt.savefig('plots/FormatssLinechart.png')\n",
        "plt.close()"
      ]
    },
    {
      "cell_type": "code",
      "execution_count": null,
      "id": "fb817d69-01dd-47bf-a37c-7c0deaaf4169",
      "metadata": {
        "tags": [],
        "id": "fb817d69-01dd-47bf-a37c-7c0deaaf4169"
      },
      "outputs": [],
      "source": [
        "#Last Update - Daten reinladen\n",
        "dfLastUpdate = pd.read_csv(\"data/BAFU_OGD_Monitoring_LastUpdate.csv\", parse_dates=['Date'])\n",
        "dfLastUpdate = dfLastUpdate.loc[dfLastUpdate['Date']==datetime.today().strftime(\"%Y-%m-%d\")]\n",
        "dfLastUpdate['LastModified'] = pd.to_datetime(dfLastUpdate['LastModified'])\n",
        "dfLastUpdate['Mail']=pd.to_numeric(dfLastUpdate['Mail'])"
      ]
    },
    {
      "cell_type": "code",
      "execution_count": null,
      "id": "3734545f-2133-4808-917b-888426efe6ca",
      "metadata": {
        "tags": [],
        "id": "3734545f-2133-4808-917b-888426efe6ca"
      },
      "outputs": [],
      "source": [
        "#Last Update - Barchart\n",
        "fig, ax = plt.subplots()\n",
        "plt.rcParams[\"figure.figsize\"] = (4,2)\n",
        "plt.bar(x=dfLastUpdate['LastModified'], height=dfLastUpdate['Mail'], width=20)\n",
        "ax.set_title('Anzahl Publikationen')\n",
        "plt.xticks(rotation = 90)\n",
        "plt.ylabel(\"Anzahl Publikationen\")\n",
        "ax.bar_label(ax.containers[0], label_type='edge')\n",
        "plt.rcParams[\"figure.figsize\"] = (10,5)\n",
        "plt.savefig('plots/LastUpdate.png',bbox_inches='tight')\n",
        "plt.close()"
      ]
    },
    {
      "cell_type": "code",
      "execution_count": 164,
      "id": "1bcb1db2-195e-4827-ba0f-137f473a63a9",
      "metadata": {
        "id": "1bcb1db2-195e-4827-ba0f-137f473a63a9"
      },
      "outputs": [],
      "source": [
        "#License - Linechart\n",
        "dfLicense = pd.read_csv(\"data/BAFU_OGD_Monitoring_License.csv\", parse_dates=['Date'])\n",
        "dfLicense = dfLicense.pivot(index=\"Date\", columns=['License'],values=\"Package\")\n",
        "dfLicense.plot(figsize=(15,10))\n",
        "plt.title(\"Anzahl OGD Datensätze nach Lizenz\")\n",
        "plt.savefig('plots/LizenzLinechart.png')\n",
        "plt.close()"
      ]
    },
    {
      "cell_type": "code",
      "source": [
        "#STAC NEIN\n",
        "dfGeodaten = pd.read_csv(\"data/BAFU_OGD_Monitoring_STAC.csv\", parse_dates=['Date'])\n",
        "dfGeodaten = dfGeodaten[dfGeodaten['STAC'] == 'nein']\n",
        "dfGeodaten = dfGeodaten.pivot(index=\"Date\", columns=['Mail'],values=\"Package\")\n",
        "dfGeodaten.plot(figsize=(15,10))\n",
        "plt.title(\"Anzahl Geo-Datensätze welche noch nicht auf STAC verfügbar sind\")\n",
        "plt.savefig('plots/StacLinechart.png')\n",
        "plt.close()"
      ],
      "metadata": {
        "id": "qDgYgeh2dsgq"
      },
      "id": "qDgYgeh2dsgq",
      "execution_count": 195,
      "outputs": []
    }
  ],
  "metadata": {
    "kernelspec": {
      "display_name": "Python 3 (ipykernel)",
      "language": "python",
      "name": "python3"
    },
    "language_info": {
      "codemirror_mode": {
        "name": "ipython",
        "version": 3
      },
      "file_extension": ".py",
      "mimetype": "text/x-python",
      "name": "python",
      "nbconvert_exporter": "python",
      "pygments_lexer": "ipython3",
      "version": "3.10.11"
    },
    "colab": {
      "provenance": [],
      "include_colab_link": true
    }
  },
  "nbformat": 4,
  "nbformat_minor": 5
}