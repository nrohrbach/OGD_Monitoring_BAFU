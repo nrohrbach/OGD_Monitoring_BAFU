{
 "cells": [
  {
   "cell_type": "code",
   "execution_count": 3,
   "id": "21343450-58f6-4adc-8485-78be3e548549",
   "metadata": {
    "tags": []
   },
   "outputs": [],
   "source": [
    "#pip install pandas"
   ]
  },
  {
   "cell_type": "code",
   "execution_count": 4,
   "id": "e3e5c8d9-4337-4427-aa00-0d7f738298b2",
   "metadata": {
    "tags": []
   },
   "outputs": [],
   "source": [
    "#pip install matplotlib"
   ]
  },
  {
   "cell_type": "markdown",
   "id": "09abcb1c-32fe-4be3-853c-9c576ba9f57e",
   "metadata": {
    "tags": []
   },
   "source": [
    "## Libraries importieren"
   ]
  },
  {
   "cell_type": "code",
   "execution_count": 5,
   "id": "2e858b48-9a23-49e6-8c46-6526f60727a8",
   "metadata": {
    "tags": []
   },
   "outputs": [],
   "source": [
    "import requests\n",
    "import json\n",
    "import pandas as pd\n",
    "from datetime import datetime\n",
    "import matplotlib.pyplot as plt\n",
    "%matplotlib inline"
   ]
  },
  {
   "cell_type": "markdown",
   "id": "cb07692a-170f-469b-83de-1d0af7d0e6fb",
   "metadata": {},
   "source": [
    "## Alle Packages des BAFU abfragen"
   ]
  },
  {
   "cell_type": "code",
   "execution_count": 6,
   "id": "f6a8c063-cdaf-40d7-abde-c5b95fb05331",
   "metadata": {
    "tags": []
   },
   "outputs": [],
   "source": [
    "# Abfrage aller CKAN Packages des BAFU\n",
    "Packages = \"https://ckan.opendata.swiss/api/3/action/organization_show?id=bundesamt-fur-umwelt-bafu&include_datasets=True\"\n",
    "Packages = requests.get(Packages).json()"
   ]
  },
  {
   "cell_type": "code",
   "execution_count": 8,
   "id": "7c3688f9-214c-4f26-89d3-d55ef1f43783",
   "metadata": {
    "tags": []
   },
   "outputs": [],
   "source": [
    "# Alle Bezeichungen und Publisher extrahieren\n",
    "Title = [s['title_for_slug'] for s in Packages['result']['packages']]\n",
    "Maintainer = [s['maintainer'] for s in Packages['result']['packages']]\n",
    "Email = [s['maintainer_email'] for s in Packages['result']['packages']]\n",
    "LastModified = [s['modified'] for s in Packages['result']['packages']]"
   ]
  },
  {
   "cell_type": "code",
   "execution_count": 104,
   "id": "777da063-9243-4db6-a5c4-45f91c56ff62",
   "metadata": {
    "tags": []
   },
   "outputs": [],
   "source": [
    "# Dataframe für Packages erstellen\n",
    "dict = {'Publisher': Maintainer, 'Mail': Email, 'Package': Title, 'LastModified': LastModified}\n",
    "dfPackages = pd.DataFrame(dict)"
   ]
  },
  {
   "cell_type": "code",
   "execution_count": 275,
   "id": "2ab2e002-580c-4a11-901c-2807b717c3fe",
   "metadata": {
    "tags": []
   },
   "outputs": [],
   "source": [
    "# Mit folgender BaseURL können Details aller Packages abgerufen werden\n",
    "DatasetBaseURL = 'https://ckan.opendata.swiss/api/3/action/package_show?id='"
   ]
  },
  {
   "cell_type": "code",
   "execution_count": null,
   "id": "54e6e64b-5b67-4600-a234-fee733061e47",
   "metadata": {
    "tags": []
   },
   "outputs": [],
   "source": [
    "# Alle Datasets aller Packages abfragen\n",
    "Datasets = []\n",
    "\n",
    "for package in Title:\n",
    "    try:\n",
    "        DataSet = requests.get(DatasetBaseURL + package).json()\n",
    "        # Alle Bezeichungen und Publisher extrahieren\n",
    "        Format = [s['format'] for s in DataSet['result']['resources']]\n",
    "        PackageId = [s['package_id'] for s in DataSet['result']['resources']]\n",
    "        Datasets.append({'Package': package, 'Format': Format})\n",
    "        \n",
    "    except:\n",
    "        Datasets.append({'Package': package, 'Format': 'Unbekannt'})"
   ]
  },
  {
   "cell_type": "code",
   "execution_count": 46,
   "id": "4d6259b6-d40d-4b06-b117-5d52a6f8df4c",
   "metadata": {
    "tags": []
   },
   "outputs": [],
   "source": [
    "# Dataframe der Datasets erstellen und mit dem Dataframe der Packages mergen\n",
    "dfDatasets = pd.DataFrame(Datasets)\n",
    "dfDatasets = dfDatasets.explode('Format', ignore_index=False)\n",
    "dfDatasets = pd.merge(dfDatasets, dfPackages, how='left', on=['Package'])\n",
    "dfDatasets['Date'] = datetime.today().strftime(\"%Y-%m-%d\")"
   ]
  },
  {
   "cell_type": "markdown",
   "id": "55f8d986-093e-43c9-b98e-d93156fc7ccb",
   "metadata": {},
   "source": [
    "## Daten als CSV speichern"
   ]
  },
  {
   "cell_type": "code",
   "execution_count": 54,
   "id": "95427280-0d3b-46f6-ad6a-de8c5cf4395e",
   "metadata": {
    "tags": []
   },
   "outputs": [],
   "source": [
    "# Übersicht Packages speichern\n",
    "dfPackagesCSV = dfPackages.groupby(['Mail'])['Package'].count().reset_index()\n",
    "dfPackagesCSV['Date'] = datetime.today().strftime(\"%Y-%m-%d\")\n",
    "dfPackagesCSV.to_csv(\"data/BAFU_OGD_Monitoring_Packages.csv\", header=False, index=False, mode='a')"
   ]
  },
  {
   "cell_type": "code",
   "execution_count": 61,
   "id": "f5b12bf2-9176-46fb-ad50-f7f173387c64",
   "metadata": {
    "tags": []
   },
   "outputs": [],
   "source": [
    "# Übersicht Datasets speichern\n",
    "dfDatasetsCSV = dfDatasets.groupby(['Mail'])['Package'].count().reset_index()\n",
    "dfDatasetsCSV['Date'] = datetime.today().strftime(\"%Y-%m-%d\")\n",
    "dfDatasetsCSV.to_csv(\"data/BAFU_OGD_Monitoring_Datasets.csv\", header=False, index=False, mode='a')"
   ]
  },
  {
   "cell_type": "code",
   "execution_count": 70,
   "id": "8acb51bb-7a98-49c9-b2d9-fe9a0d86be04",
   "metadata": {
    "tags": []
   },
   "outputs": [],
   "source": [
    "# Übersicht Formate speichern\n",
    "dfFormats = dfDatasets.groupby(['Format'])['Mail'].count().reset_index()\n",
    "dfFormats.replace(\"\",\"Fehlt\",inplace=True)\n",
    "dfFormats['Date'] = datetime.today().strftime(\"%Y-%m-%d\")\n",
    "dfFormats.to_csv(\"data/BAFU_OGD_Monitoring_Formats.csv\", header=False, index=False, mode='a')"
   ]
  },
  {
   "cell_type": "code",
   "execution_count": 161,
   "id": "c53e65e4-ae98-4c05-b84b-ee77eadfd34f",
   "metadata": {
    "tags": []
   },
   "outputs": [],
   "source": [
    "# Übersicht Last Update speichern\n",
    "dfPackages['LastModified'] = dfPackages['LastModified'].str.slice(0,7)\n",
    "dfLastUpdateCSV = dfPackages.groupby(['LastModified'])['Mail'].count().reset_index()\n",
    "dfLastUpdateCSV.replace(\"\",\"1999-01\",inplace=True) #Fehlende Werte werden 1999 dargestellt.\n",
    "dfLastUpdateCSV['LastModified'] = pd.to_datetime(dfLastUpdateCSV['LastModified'])\n",
    "dfLastUpdateCSV['Date'] = datetime.today().strftime(\"%Y-%m-%d\")\n",
    "dfLastUpdateCSV.to_csv(\"data/BAFU_OGD_Monitoring_LastUpdate.csv\", header=False, index=False, mode='a')"
   ]
  },
  {
   "cell_type": "markdown",
   "id": "1161ede7-dcb1-4ba8-b5fc-51107f522312",
   "metadata": {
    "tags": []
   },
   "source": [
    "## Visualisierungen erstellen"
   ]
  },
  {
   "cell_type": "code",
   "execution_count": 203,
   "id": "c1f87c1e-61a0-4c27-8c20-cd72fbbdc9bf",
   "metadata": {
    "tags": []
   },
   "outputs": [],
   "source": [
    "#Packages - Daten reinladen\n",
    "dfPackages = pd.read_csv(\"data/BAFU_OGD_Monitoring_Packages.csv\", parse_dates=['Date'])"
   ]
  },
  {
   "cell_type": "code",
   "execution_count": 206,
   "id": "9c7b1556-77bb-45c7-8b58-47feaec0910d",
   "metadata": {
    "tags": []
   },
   "outputs": [],
   "source": [
    "#Packages Barchart\n",
    "dfPackagesBar = dfPackages.loc[dfPackages['Date']==datetime.today().strftime(\"%Y-%m-%d\")]\n",
    "dfPackagesBar = dfPackagesBar.sort_values('Package',ascending=False)\n",
    "\n",
    "fig, ax = plt.subplots()\n",
    "ax.bar(dfPackagesBar['Mail'], dfPackagesBar['Package'])\n",
    "ax.set_title('Anzahl OGD Publikationen')\n",
    "plt.xticks(rotation = 90)\n",
    "plt.ylabel(\"Anzahl Masten\")\n",
    "plt.rcParams[\"figure.figsize\"] = (10,5)\n",
    "ax.bar_label(ax.containers[0], label_type='edge')\n",
    "plt.savefig('plots/PackagesBarchart.png',bbox_inches='tight')\n",
    "plt.close()"
   ]
  },
  {
   "cell_type": "code",
   "execution_count": 207,
   "id": "18a709fb-1298-4359-8622-20a04a5df04c",
   "metadata": {
    "tags": []
   },
   "outputs": [],
   "source": [
    "#Packages - Linechart\n",
    "dfPackagesLine = dfPackages.pivot(index=\"Date\", columns=['Mail'],values=\"Package\")\n",
    "\n",
    "dfPackagesLine.plot(figsize=(15,10))\n",
    "plt.legend(loc='lower left')\n",
    "plt.title(\"Anzahl OGD Publikationen\")\n",
    "plt.savefig('plots/PackagesLinechart.png')\n",
    "plt.close()"
   ]
  },
  {
   "cell_type": "code",
   "execution_count": 219,
   "id": "40ce18b0-1d8e-45e2-8c12-0a70b77a3eae",
   "metadata": {
    "tags": []
   },
   "outputs": [],
   "source": [
    "#Datasets - Daten reinladen\n",
    "dfDatasets = pd.read_csv(\"data/BAFU_OGD_Monitoring_Datasets.csv\", parse_dates=['Date'])"
   ]
  },
  {
   "cell_type": "code",
   "execution_count": 220,
   "id": "7c88ba7c-be18-4b23-8049-870dfd2c8643",
   "metadata": {
    "tags": []
   },
   "outputs": [],
   "source": [
    "#Datasets Barchart\n",
    "dfDatasetsBar = dfDatasets.loc[dfDatasets['Date']==datetime.today().strftime(\"%Y-%m-%d\")]\n",
    "dfDatasetsBar = dfDatasetsBar.sort_values('Package',ascending=False)\n",
    "\n",
    "fig, ax = plt.subplots()\n",
    "ax.bar(dfDatasetsBar['Mail'], dfDatasetsBar['Package'])\n",
    "ax.set_title('Anzahl OGD Datensätze')\n",
    "plt.xticks(rotation = 90)\n",
    "plt.ylabel(\"Anzahl Masten\")\n",
    "plt.rcParams[\"figure.figsize\"] = (10,5)\n",
    "ax.bar_label(ax.containers[0], label_type='edge')\n",
    "plt.savefig('plots/DatasetsBarchart.png',bbox_inches='tight')\n",
    "plt.close()"
   ]
  },
  {
   "cell_type": "code",
   "execution_count": 223,
   "id": "2d210318-09f3-4db2-b42b-57830404708c",
   "metadata": {
    "tags": []
   },
   "outputs": [],
   "source": [
    "#Datsets - Linechart\n",
    "dfDatasetsLine = dfDatasets.pivot(index=\"Date\", columns=['Mail'],values=\"Package\")\n",
    "\n",
    "dfDatasetsLine.plot(figsize=(15,10))\n",
    "plt.legend(loc='lower left')\n",
    "plt.title(\"Anzahl OGD Datensätze\")\n",
    "plt.savefig('plots/DatasetsLinechart.png')\n",
    "plt.close()"
   ]
  },
  {
   "cell_type": "code",
   "execution_count": 243,
   "id": "f5bec2fb-1db9-4f4e-88f1-a700421c826e",
   "metadata": {
    "tags": []
   },
   "outputs": [],
   "source": [
    "#Formate - Daten reinladen\n",
    "dfFormats = pd.read_csv(\"data/BAFU_OGD_Monitoring_Formats.csv\", parse_dates=['Date'])"
   ]
  },
  {
   "cell_type": "code",
   "execution_count": 236,
   "id": "8738aa6b-8b8e-437b-aad0-0ec946ec69ee",
   "metadata": {
    "tags": []
   },
   "outputs": [],
   "source": [
    "#Formats Barchart\n",
    "dfFormatsBar = dfFormats.loc[dfFormats['Date']==datetime.today().strftime(\"%Y-%m-%d\")]\n",
    "dfFormatsBar = dfFormatsBar.sort_values('Mail',ascending=False)\n",
    "\n",
    "fig, ax = plt.subplots()\n",
    "ax.bar(dfFormatsBar['Format'], dfFormatsBar['Mail'])\n",
    "ax.set_title('Anzahl OGD Datensätze nach Format')\n",
    "plt.xticks(rotation = 90)\n",
    "plt.ylabel(\"Anzahl Datensätze\")\n",
    "plt.rcParams[\"figure.figsize\"] = (10,5)\n",
    "ax.bar_label(ax.containers[0], label_type='edge')\n",
    "plt.savefig('plots/FormatssBarchart.png',bbox_inches='tight')\n",
    "plt.close()"
   ]
  },
  {
   "cell_type": "code",
   "execution_count": 242,
   "id": "1092ae40-ee15-4a2e-ae17-54ad5e448375",
   "metadata": {
    "tags": []
   },
   "outputs": [],
   "source": [
    "#Formats - Linechart\n",
    "dfFormatsLine = dfFormats.pivot(index=\"Date\", columns=['Format'],values=\"Mail\")\n",
    "\n",
    "dfFormatsLine.plot(figsize=(15,10))\n",
    "plt.legend(loc='lower left')\n",
    "plt.title(\"Anzahl OGD Datensätze nach Format\")\n",
    "plt.savefig('plots/FormatssLinechart.png')\n",
    "plt.close()"
   ]
  },
  {
   "cell_type": "code",
   "execution_count": 272,
   "id": "fb817d69-01dd-47bf-a37c-7c0deaaf4169",
   "metadata": {
    "tags": []
   },
   "outputs": [],
   "source": [
    "#Last Update - Daten reinladen\n",
    "dfLastUpdate = pd.read_csv(\"data/BAFU_OGD_Monitoring_LastUpdate.csv\", parse_dates=['Date'])\n",
    "dfLastUpdate = dfLastUpdate.loc[dfLastUpdate['Date']==datetime.today().strftime(\"%Y-%m-%d\")]\n",
    "dfLastUpdate['LastModified'] = pd.to_datetime(dfLastUpdate['LastModified'])\n",
    "dfLastUpdate['Mail']=pd.to_numeric(dfLastUpdate['Mail'])"
   ]
  },
  {
   "cell_type": "code",
   "execution_count": 273,
   "id": "3734545f-2133-4808-917b-888426efe6ca",
   "metadata": {
    "tags": []
   },
   "outputs": [],
   "source": [
    "#Last Update - Barchart\n",
    "fig, ax = plt.subplots()\n",
    "plt.rcParams[\"figure.figsize\"] = (4,2)\n",
    "plt.bar(x=dfLastUpdate['LastModified'], height=dfLastUpdate['Mail'], width=20)\n",
    "ax.set_title('Anzahl Publikationen')\n",
    "plt.xticks(rotation = 90)\n",
    "plt.ylabel(\"Anzahl Publikationen\")\n",
    "ax.bar_label(ax.containers[0], label_type='edge')\n",
    "plt.rcParams[\"figure.figsize\"] = (10,5)\n",
    "plt.savefig('plots/LastUpdate.png',bbox_inches='tight')\n",
    "plt.close()"
   ]
  }
 ],
 "metadata": {
  "kernelspec": {
   "display_name": "Python 3 (ipykernel)",
   "language": "python",
   "name": "python3"
  },
  "language_info": {
   "codemirror_mode": {
    "name": "ipython",
    "version": 3
   },
   "file_extension": ".py",
   "mimetype": "text/x-python",
   "name": "python",
   "nbconvert_exporter": "python",
   "pygments_lexer": "ipython3",
   "version": "3.10.11"
  }
 },
 "nbformat": 4,
 "nbformat_minor": 5
}
